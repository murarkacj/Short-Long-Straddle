{
 "cells": [
  {
   "cell_type": "code",
   "execution_count": 44,
   "id": "ec1f6c22-f112-4bc7-be2b-969114aa1745",
   "metadata": {},
   "outputs": [
    {
     "name": "stdout",
     "output_type": "stream",
     "text": [
      "Database created and Successfully Connected to SQLite\n",
      "Fetched Rows from 'portfolio' table:\n",
      "('HDFCBANK23AUG1600CE', -1100, '31655938', 24.6, '2023-08-17 09:30:02.420527+05:30')\n",
      "('HDFCBANK23AUG1620PE', -1100, '31657218', 25.65, '2023-08-17 09:30:02.420801+05:30')\n",
      "('INFY23AUG1420CE', -1200, '33590786', 15.05, '2023-08-17 09:30:04.879728+05:30')\n",
      "('INFY23AUG1410PE', -1200, '38731266', 13.5, '2023-08-17 09:30:04.879918+05:30')\n",
      "('SBIN23AUG565CE', -12000, '36334594', 10.9, '2023-08-17 09:30:07.185654+05:30')\n",
      "('SBIN23AUG570PE', -12000, '36335362', 10.7, '2023-08-17 09:30:07.185847+05:30')\n",
      "('BHARTIARTL23AUG860CE', -950, '24982018', 10.05, '2023-08-17 09:30:09.511439+05:30')\n",
      "('BHARTIARTL23AUG850PE', -950, '24981762', 10, '2023-08-17 09:30:09.511635+05:30')\n",
      "('RELIANCE23AUG2560CE', -1250, '36167170', 40.8, '2023-08-17 09:30:12.577970+05:30')\n",
      "('RELIANCE23AUG2560PE', -1250, '36167426', 39.75, '2023-08-17 09:30:12.578156+05:30')\n",
      "('SBIN23AUG560CE', 12000, '36334082', 17.35, '2023-08-17 15:25:01.291529+05:30')\n",
      "('SBIN23AUG575PE', 12000, '36335874', 9.85, '2023-08-17 15:25:01.291697+05:30')\n",
      "('BHARTIARTL23AUG850CE', 950, '24981506', 15.5, '2023-08-17 15:25:02.778022+05:30')\n",
      "('BHARTIARTL23AUG860PE', 950, '24982274', 12.7, '2023-08-17 15:25:02.778211+05:30')\n",
      "('RELIANCE23AUG2540CE', 1250, '36166658', 40, '2023-08-17 15:25:04.795686+05:30')\n",
      "('RELIANCE23AUG2580PE', 1250, '36167938', 66.8, '2023-08-17 15:25:04.795833+05:30')\n",
      "('HDFCBANK23AUG1590CE', 1100, '31655426', 27.7, '2023-08-17 15:25:06.362234+05:30')\n",
      "('HDFCBANK23AUG1630PE', 1100, '31657730', 36.5, '2023-08-17 15:25:06.362370+05:30')\n",
      "('INFY23AUG1410CE', 1200, '38731010', 18.5, '2023-08-17 15:25:07.933715+05:30')\n",
      "('INFY23AUG1420PE', 1200, '33594114', 18.1, '2023-08-17 15:25:07.933855+05:30')\n",
      "('RELIANCE23AUG2540CE', -1250, '36166658', 30.9, '2023-08-18 10:26:26.477088+05:30')\n",
      "('RELIANCE23AUG2580PE', -1250, '36167938', 78.2, '2023-08-18 10:26:26.477244+05:30')\n",
      "('HDFCBANK23AUG1590CE', -1100, '31655426', 23.7, '2023-08-18 10:26:27.489569+05:30')\n",
      "('HDFCBANK23AUG1630PE', -1100, '31657730', 39.65, '2023-08-18 10:26:27.489729+05:30')\n",
      "('INFY23AUG1410CE', -1200, '38731010', 10.1, '2023-08-18 10:26:28.557947+05:30')\n",
      "('INFY23AUG1420PE', -1200, '33594114', 29.75, '2023-08-18 10:26:28.558094+05:30')\n",
      "('SBIN23AUG560CE', -12000, '36334082', 16.1, '2023-08-18 10:26:29.570101+05:30')\n",
      "('SBIN23AUG575PE', -12000, '36335874', 10.6, '2023-08-18 10:26:29.570273+05:30')\n",
      "('BHARTIARTL23AUG850CE', -950, '24981506', 13.5, '2023-08-18 10:26:30.627701+05:30')\n",
      "('BHARTIARTL23AUG860PE', -950, '24982274', 14.45, '2023-08-18 10:26:30.627838+05:30')\n",
      "('RELIANCE23AUG2560CE', 1250, '36167170', 24.75, '2023-08-18 10:34:45.847770+05:30')\n",
      "('RELIANCE23AUG2560PE', 1250, '36167426', 61.35, '2023-08-18 10:34:45.847878+05:30')\n",
      "('INFY23AUG1420CE', 1200, '33590786', 6.45, '2023-08-18 10:34:48.758184+05:30')\n",
      "('INFY23AUG1410PE', 1200, '38731266', 24.35, '2023-08-18 10:34:48.758301+05:30')\n",
      "('RELIANCE23AUG2520CE', -1250, '36166146', 40.3, '2023-08-18 10:34:53.268416+05:30')\n",
      "('RELIANCE23AUG2520PE', -1250, '36166402', 37.3, '2023-08-18 10:34:53.268586+05:30')\n",
      "('INFY23AUG1390CE', -1200, '38730498', 18, '2023-08-18 10:34:56.625376+05:30')\n",
      "('INFY23AUG1400PE', -1200, '33590530', 18, '2023-08-18 10:34:56.625529+05:30')\n",
      "('HDFCBANK23AUG1600CE', 1100, '31655938', 17.1, '2023-08-18 10:42:37.174575+05:30')\n",
      "('HDFCBANK23AUG1620PE', 1100, '31657218', 34.6, '2023-08-18 10:42:37.174698+05:30')\n",
      "('HDFCBANK23AUG1590CE', -1100, '31655426', 22.1, '2023-08-18 10:42:43.488404+05:30')\n",
      "('HDFCBANK23AUG1600PE', -1100, '31656194', 22.25, '2023-08-18 10:42:43.488555+05:30')\n",
      "The SQLite connection is closed\n"
     ]
    }
   ],
   "source": [
    "# Fetching all entries from table\n",
    "import sqlite3\n",
    "try:\n",
    "    # Connect to the SQLite database or create it if not exists\n",
    "    sqliteConnection = sqlite3.connect('SQLite_Python.db')\n",
    "\n",
    "    # Create a cursor to interact with the database\n",
    "    cursor = sqliteConnection.cursor()\n",
    "    print(\"Database created and Successfully Connected to SQLite\")\n",
    "\n",
    "    # Fetch all rows from the 'portfolio' table\n",
    "    fetch_all_query = '''\n",
    "        SELECT * FROM portfolio;\n",
    "    '''\n",
    "    cursor.execute(fetch_all_query)\n",
    "    rows = cursor.fetchall()\n",
    "\n",
    "    # Print fetched rows\n",
    "    print(\"Fetched Rows from 'portfolio' table:\")\n",
    "    for row in rows:\n",
    "        print(row)\n",
    "\n",
    "    # Close the cursor\n",
    "    cursor.close()\n",
    "\n",
    "except sqlite3.Error as error:\n",
    "    print(\"Error while working with SQLite:\", error)\n",
    "finally:\n",
    "    # Close the database connection if it's open\n",
    "    if sqliteConnection:\n",
    "        sqliteConnection.close()\n",
    "        print(\"The SQLite connection is closed\")"
   ]
  },
  {
   "cell_type": "code",
   "execution_count": 5,
   "id": "7bb59e72-ed8c-4a7a-aa62-62eb6898336d",
   "metadata": {},
   "outputs": [
    {
     "name": "stdout",
     "output_type": "stream",
     "text": [
      "Database created and Successfully Connected to SQLite\n",
      "Rows with timestamp greater than 14:58:07.819310+05:30 deleted from the table\n",
      "The SQLite connection is closed\n"
     ]
    }
   ],
   "source": [
    "# ## Clean db file\n",
    "\n",
    "# import sqlite3\n",
    "\n",
    "# try:\n",
    "#     # Connect to the SQLite database or create it if not exists\n",
    "#     sqliteConnection = sqlite3.connect('SQLite_Python.db')\n",
    "\n",
    "#     # Create a cursor to interact with the database\n",
    "#     cursor = sqliteConnection.cursor()\n",
    "#     print(\"Database created and Successfully Connected to SQLite\")\n",
    "\n",
    "#     # Define the timestamp threshold\n",
    "#     threshold_timestamp = '14:58:07.819310+05:30'\n",
    "\n",
    "#     # Delete rows with timestamp greater than the threshold\n",
    "#     delete_rows_query = '''\n",
    "#         DELETE FROM portfolio\n",
    "#         WHERE timestamp > ?;\n",
    "#     '''\n",
    "#     cursor.execute(delete_rows_query, (threshold_timestamp,))\n",
    "#     sqliteConnection.commit()\n",
    "\n",
    "#     print(\"Rows with timestamp greater than\", threshold_timestamp, \"deleted from the table\")\n",
    "\n",
    "#     # Close the cursor\n",
    "#     cursor.close()\n",
    "\n",
    "# except sqlite3.Error as error:\n",
    "#     print(\"Error while working with SQLite:\", error)\n",
    "# finally:\n",
    "#     # Close the database connection if it's open\n",
    "#     if sqliteConnection:\n",
    "#         sqliteConnection.close()\n",
    "#         print(\"The SQLite connection is closed\")\n"
   ]
  },
  {
   "cell_type": "code",
   "execution_count": 13,
   "id": "4e0c82b1-edbd-44c4-82b8-3165402f52f6",
   "metadata": {},
   "outputs": [
    {
     "name": "stdout",
     "output_type": "stream",
     "text": [
      "Database created and Successfully Connected to SQLite\n",
      "Fetched Rows from 'portfolio' table:\n",
      "('RELIANCE23AUG2540CE', -1250, '36166658', 47, '2023-08-14 09:48:41.607665+05:30')\n",
      "('RELIANCE23AUG2560PE', -1250, '36167426', 47.15, '2023-08-14 09:48:41.607880+05:30')\n",
      "('HDFCBANK23AUG1600CE', -1100, '31655938', 29.9, '2023-08-14 09:49:14.450299+05:30')\n",
      "('HDFCBANK23AUG1630PE', -1100, '31657730', 32, '2023-08-14 09:49:14.450495+05:30')\n",
      "('INFY23AUG1380CE', -1200, '33589762', 23, '2023-08-14 09:49:51.159474+05:30')\n",
      "('INFY23AUG1390PE', -1200, '38730754', 24.45, '2023-08-14 09:49:51.159654+05:30')\n",
      "('SBIN23AUG565CE', -12000, '36334594', 11.35, '2023-08-14 09:50:18.830337+05:30')\n",
      "('SBIN23AUG565PE', -12000, '36334850', 11, '2023-08-14 09:50:18.830523+05:30')\n",
      "('BHARTIARTL23AUG870CE', -950, '24982530', 12.1, '2023-08-14 09:50:39.335185+05:30')\n",
      "('BHARTIARTL23AUG860PE', -950, '24982274', 10.35, '2023-08-14 09:50:39.335368+05:30')\n",
      "The SQLite connection is closed\n"
     ]
    }
   ],
   "source": [
    "## post deletion\n",
    "\n",
    "# Fetching all entries from table\n",
    "import sqlite3\n",
    "try:\n",
    "    # Connect to the SQLite database or create it if not exists\n",
    "    sqliteConnection = sqlite3.connect('SQLite_Python.db')\n",
    "\n",
    "    # Create a cursor to interact with the database\n",
    "    cursor = sqliteConnection.cursor()\n",
    "    print(\"Database created and Successfully Connected to SQLite\")\n",
    "\n",
    "    # Fetch all rows from the 'portfolio' table\n",
    "    fetch_all_query = '''\n",
    "        SELECT * FROM portfolio;\n",
    "    '''\n",
    "    cursor.execute(fetch_all_query)\n",
    "    rows = cursor.fetchall()\n",
    "\n",
    "    # Print fetched rows\n",
    "    print(\"Fetched Rows from 'portfolio' table:\")\n",
    "    for row in rows:\n",
    "        print(row)\n",
    "\n",
    "    # Close the cursor\n",
    "    cursor.close()\n",
    "\n",
    "except sqlite3.Error as error:\n",
    "    print(\"Error while working with SQLite:\", error)\n",
    "finally:\n",
    "    # Close the database connection if it's open\n",
    "    if sqliteConnection:\n",
    "        sqliteConnection.close()\n",
    "        print(\"The SQLite connection is closed\")"
   ]
  },
  {
   "cell_type": "code",
   "execution_count": 4,
   "id": "3650dde6-922c-46f8-b0c7-8bbcf75eafad",
   "metadata": {},
   "outputs": [
    {
     "name": "stdout",
     "output_type": "stream",
     "text": [
      "Column names in portfolio table: ['tradingsymbol', 'quantity', 'instrument_token', 'sell_price', 'timestamp']\n"
     ]
    }
   ],
   "source": [
    "## Get column names\n",
    "\n",
    "import sqlite3\n",
    "\n",
    "try:\n",
    "    # Connect to the SQLite database or create it if not exists\n",
    "    sqliteConnection = sqlite3.connect('SQLite_Python.db')\n",
    "\n",
    "    # Create a cursor to interact with the database\n",
    "    cursor = sqliteConnection.cursor()\n",
    "\n",
    "    # Get the column names from a table\n",
    "    table_name = 'portfolio'  # Replace with your actual table name\n",
    "    get_columns_query = f\"PRAGMA table_info({table_name})\"\n",
    "    cursor.execute(get_columns_query)\n",
    "    columns = [column[1] for column in cursor.fetchall()]\n",
    "\n",
    "    # Print the column names\n",
    "    print(\"Column names in\", table_name, \"table:\", columns)\n",
    "\n",
    "    # Close the cursor\n",
    "    cursor.close()\n",
    "\n",
    "except sqlite3.Error as error:\n",
    "    print(\"Error while working with SQLite:\", error)\n",
    "finally:\n",
    "    # Close the database connection if it's open\n",
    "    if sqliteConnection:\n",
    "        sqliteConnection.close()\n"
   ]
  },
  {
   "cell_type": "code",
   "execution_count": 1,
   "id": "2e3ee763-ab93-475a-8204-c4d877fa65df",
   "metadata": {},
   "outputs": [
    {
     "name": "stdout",
     "output_type": "stream",
     "text": [
      "Database created and Successfully Connected to SQLite\n",
      "Rows with timestamp greater than 2023-08-18 06:27:07.819310+05:30 deleted from the table\n",
      "The SQLite connection is closed\n"
     ]
    }
   ],
   "source": [
    "import sqlite3\n",
    "\n",
    "try:\n",
    "    # Connect to the SQLite database or create it if not exists\n",
    "    sqliteConnection = sqlite3.connect('SQLite_Python.db')\n",
    "\n",
    "    # Create a cursor to interact with the database\n",
    "    cursor = sqliteConnection.cursor()\n",
    "    print(\"Database created and Successfully Connected to SQLite\")\n",
    "\n",
    "    # Define the timestamp threshold in a compatible format\n",
    "    threshold_timestamp = '2023-08-18 06:27:07.819310+05:30'\n",
    "\n",
    "    # Delete rows with timestamp greater than the threshold\n",
    "    delete_rows_query = '''\n",
    "        DELETE FROM portfolio\n",
    "        WHERE timestamp > ?;\n",
    "    '''\n",
    "    cursor.execute(delete_rows_query, (threshold_timestamp,))\n",
    "    sqliteConnection.commit()\n",
    "\n",
    "    print(\"Rows with timestamp greater than\", threshold_timestamp, \"deleted from the table\")\n",
    "\n",
    "    # Close the cursor\n",
    "    cursor.close()\n",
    "\n",
    "except sqlite3.Error as error:\n",
    "    print(\"Error while working with SQLite:\", error)\n",
    "finally:\n",
    "    # Close the database connection if it's open\n",
    "    if sqliteConnection:\n",
    "        sqliteConnection.close()\n",
    "        print(\"The SQLite connection is closed\")"
   ]
  },
  {
   "cell_type": "code",
   "execution_count": 12,
   "id": "0fa0b5dc",
   "metadata": {},
   "outputs": [],
   "source": [
    "from datetime import datetime\n",
    "import calendar\n",
    "import pytz\n",
    "def cal_sec_last_thurs():\n",
    "    # Calculate the dae of last friday and thursday of the current month\n",
    "    IST = pytz.timezone('Asia/Kolkata')\n",
    "    year = int(datetime.now(IST).today().strftime('%Y'))\n",
    "    month = int(datetime.now(IST).today().strftime('%m'))\n",
    "    last_day = calendar.monthrange(year, month)[1]\n",
    "    last_weekday = calendar.weekday(year, month, last_day)\n",
    "    last_thursday = last_day - ((7 - (3 - last_weekday)) % 7)\n",
    "    second_last_thurs = last_thursday - 7\n",
    "    return second_last_thurs"
   ]
  },
  {
   "cell_type": "code",
   "execution_count": 5,
   "id": "e1b0269e",
   "metadata": {},
   "outputs": [],
   "source": [
    "from kiteconnect import KiteConnect\n",
    "api_key = '32x4jxl51pyspsfn'\n",
    "api_secret = 'bqk4276qgftuplngvtik62fd6ecks9od'\n",
    "kite = KiteConnect(api_key=api_key)\n",
    "last_access_token = 'EMJHP03UA1moW3xv7uaBt4WR5CBeQrUT'\n",
    "kite.set_access_token(last_access_token)"
   ]
  },
  {
   "cell_type": "code",
   "execution_count": 6,
   "id": "d60d7dda",
   "metadata": {},
   "outputs": [
    {
     "data": {
      "text/plain": [
       "{'user_id': 'FGM945',\n",
       " 'user_type': 'individual/res_no_nn',\n",
       " 'email': 'murarkashrey87@gmail.com',\n",
       " 'user_name': 'Chaitanya Jitendra Murarka',\n",
       " 'user_shortname': 'Chaitanya',\n",
       " 'broker': 'ZERODHA',\n",
       " 'exchanges': ['MF', 'BSE', 'NSE'],\n",
       " 'products': ['CNC', 'NRML', 'MIS', 'BO', 'CO'],\n",
       " 'order_types': ['MARKET', 'LIMIT', 'SL', 'SL-M'],\n",
       " 'avatar_url': None,\n",
       " 'meta': {'demat_consent': 'consent'}}"
      ]
     },
     "execution_count": 6,
     "metadata": {},
     "output_type": "execute_result"
    }
   ],
   "source": [
    "kite.profile()"
   ]
  },
  {
   "cell_type": "code",
   "execution_count": 7,
   "id": "5f089da2",
   "metadata": {},
   "outputs": [
    {
     "data": {
      "text/plain": [
       "[]"
      ]
     },
     "execution_count": 7,
     "metadata": {},
     "output_type": "execute_result"
    }
   ],
   "source": [
    "kite.orders()"
   ]
  },
  {
   "cell_type": "code",
   "execution_count": null,
   "id": "35d4d5f9",
   "metadata": {},
   "outputs": [],
   "source": []
  }
 ],
 "metadata": {
  "environment": {
   "kernel": "python3",
   "name": "common-cpu.m110",
   "type": "gcloud",
   "uri": "gcr.io/deeplearning-platform-release/base-cpu:m110"
  },
  "kernelspec": {
   "display_name": "Python 3",
   "language": "python",
   "name": "python3"
  },
  "language_info": {
   "codemirror_mode": {
    "name": "ipython",
    "version": 3
   },
   "file_extension": ".py",
   "mimetype": "text/x-python",
   "name": "python",
   "nbconvert_exporter": "python",
   "pygments_lexer": "ipython3",
   "version": "3.11.3"
  }
 },
 "nbformat": 4,
 "nbformat_minor": 5
}
